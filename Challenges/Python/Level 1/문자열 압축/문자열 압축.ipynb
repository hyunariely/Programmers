{
 "cells": [
  {
   "cell_type": "code",
   "execution_count": 1,
   "metadata": {},
   "outputs": [],
   "source": [
    "def solution(s):\n",
    "    answer = 0\n",
    "    \n",
    "    sList = []\n",
    "\n",
    "    for stepSize in range(1, len(s) + 1):\n",
    "\n",
    "        maxIndex = len(s) // stepSize\n",
    "        remainder = ''\n",
    "\n",
    "        if len(s) % stepSize > 0:\n",
    "\n",
    "            remainder = s[-(len(s) % stepSize):]\n",
    "\n",
    "        index = 0\n",
    "        newS = ''\n",
    "\n",
    "        while index < maxIndex:\n",
    "\n",
    "            target = s[index * stepSize:(index + 1) * stepSize]\n",
    "            count = 1\n",
    "            index += 1\n",
    "\n",
    "            while index < maxIndex:\n",
    "\n",
    "                compare = s[index * stepSize:(index + 1) * stepSize]\n",
    "\n",
    "                if target == compare:\n",
    "\n",
    "                    count += 1\n",
    "                    index += 1\n",
    "\n",
    "                else:\n",
    "\n",
    "                    break\n",
    "\n",
    "            if count == 1:\n",
    "\n",
    "                newS += target\n",
    "\n",
    "            else:\n",
    "\n",
    "                newS += target + str(count)\n",
    "\n",
    "        newS += remainder\n",
    "\n",
    "        sList.append(len(newS))\n",
    "    \n",
    "    answer = min(sList)\n",
    "    \n",
    "    return answer"
   ]
  },
  {
   "cell_type": "code",
   "execution_count": null,
   "metadata": {},
   "outputs": [],
   "source": []
  }
 ],
 "metadata": {
  "kernelspec": {
   "display_name": "Python 3",
   "language": "python",
   "name": "python3"
  },
  "language_info": {
   "codemirror_mode": {
    "name": "ipython",
    "version": 3
   },
   "file_extension": ".py",
   "mimetype": "text/x-python",
   "name": "python",
   "nbconvert_exporter": "python",
   "pygments_lexer": "ipython3",
   "version": "3.8.1"
  }
 },
 "nbformat": 4,
 "nbformat_minor": 4
}
